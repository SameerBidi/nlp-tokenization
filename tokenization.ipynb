{
 "cells": [
  {
   "cell_type": "markdown",
   "metadata": {},
   "source": [
    "# NLP - Tokenization"
   ]
  },
  {
   "cell_type": "markdown",
   "metadata": {},
   "source": [
    "#### The first thing you need to do in any NLP project is text preprocessing.\n",
    "\n",
    "#### Types:\n",
    "    1. Stop Word Removal\n",
    "    2. Tokenization\n",
    "    3. Stemming"
   ]
  },
  {
   "cell_type": "markdown",
   "metadata": {},
   "source": [
    "## Tokenization\n",
    "\n",
    "#### The process of breaking a stream of textual data into words, terms, sentences, symbols, or some other meaningful elements called tokens."
   ]
  },
  {
   "cell_type": "markdown",
   "metadata": {},
   "source": [
    "### Need of Tokenization\n",
    "####\n",
    "    1. Breaking unstructured data and natural language text into chunks of information that can be considered as discrete elements.\n",
    "    2. Turning an unstructured string (text document) into a numerical data structure suitable for machine learning."
   ]
  },
  {
   "cell_type": "markdown",
   "metadata": {},
   "source": [
    "#### 2 Main Ways:\n",
    "    1. Word Tokenization\n",
    "    2. Sentence Tokenization"
   ]
  },
  {
   "cell_type": "markdown",
   "metadata": {},
   "source": [
    "### Tools for Tokenization\n",
    "    1. NLTK\n",
    "    2. SpaCy\n",
    "    3. TextBLOB\n",
    "    4. Gensim\n",
    "    5. Keras"
   ]
  },
  {
   "cell_type": "markdown",
   "metadata": {},
   "source": [
    "### White Space Tokenization\n",
    "####\n",
    "    1. Simplest way of Tokenization\n",
    "    2. Splits the sentence into words based on White Space"
   ]
  },
  {
   "cell_type": "code",
   "execution_count": 1,
   "metadata": {},
   "outputs": [
    {
     "name": "stdout",
     "output_type": "stream",
     "text": [
      "['I', 'was', 'born', 'in', 'India', 'in', '2000.']\n"
     ]
    }
   ],
   "source": [
    "text = \"I was born in India in 2000.\"\n",
    "print(text.split())"
   ]
  },
  {
   "cell_type": "markdown",
   "metadata": {},
   "source": [
    "## NLTK Word Tokenize"
   ]
  },
  {
   "cell_type": "code",
   "execution_count": 2,
   "metadata": {},
   "outputs": [],
   "source": [
    "import nltk\n",
    "import nltk.tokenize as tkzr"
   ]
  },
  {
   "cell_type": "code",
   "execution_count": 3,
   "metadata": {},
   "outputs": [
    {
     "name": "stderr",
     "output_type": "stream",
     "text": [
      "[nltk_data] Downloading package punkt to\n",
      "[nltk_data]     C:\\Users\\SameerBidi\\AppData\\Roaming\\nltk_data...\n",
      "[nltk_data]   Package punkt is already up-to-date!\n"
     ]
    },
    {
     "data": {
      "text/plain": [
       "True"
      ]
     },
     "execution_count": 3,
     "metadata": {},
     "output_type": "execute_result"
    }
   ],
   "source": [
    "nltk.download('punkt')"
   ]
  },
  {
   "cell_type": "code",
   "execution_count": 4,
   "metadata": {},
   "outputs": [],
   "source": [
    "text = \"Hope, is the only thing stronger than Fear! #Hope #Sam.B\""
   ]
  },
  {
   "cell_type": "markdown",
   "metadata": {},
   "source": [
    "#### Word Tokenizer"
   ]
  },
  {
   "cell_type": "code",
   "execution_count": 5,
   "metadata": {},
   "outputs": [
    {
     "name": "stdout",
     "output_type": "stream",
     "text": [
      "['Hope', ',', 'is', 'the', 'only', 'thing', 'stronger', 'than', 'Fear', '!', '#', 'Hope', '#', 'Sam.B']\n"
     ]
    }
   ],
   "source": [
    "print(tkzr.word_tokenize(text))"
   ]
  },
  {
   "cell_type": "markdown",
   "metadata": {},
   "source": [
    "#### Sentence Tokenizer"
   ]
  },
  {
   "cell_type": "code",
   "execution_count": 6,
   "metadata": {},
   "outputs": [
    {
     "name": "stdout",
     "output_type": "stream",
     "text": [
      "['Hope, is the only thing stronger than Fear!', '#Hope #Sam.B']\n"
     ]
    }
   ],
   "source": [
    "print(tkzr.sent_tokenize(text))"
   ]
  },
  {
   "cell_type": "markdown",
   "metadata": {},
   "source": [
    "#### Punctuation Based Tokenizer"
   ]
  },
  {
   "cell_type": "code",
   "execution_count": 7,
   "metadata": {},
   "outputs": [
    {
     "name": "stdout",
     "output_type": "stream",
     "text": [
      "['Hope', ',', 'is', 'the', 'only', 'thing', 'stronger', 'than', 'Fear', '!', '#', 'Hope', '#', 'Sam', '.', 'B']\n"
     ]
    }
   ],
   "source": [
    "print(tkzr.wordpunct_tokenize(text))"
   ]
  },
  {
   "cell_type": "markdown",
   "metadata": {},
   "source": [
    "#### Tweet Tokenizer"
   ]
  },
  {
   "cell_type": "code",
   "execution_count": 9,
   "metadata": {},
   "outputs": [
    {
     "name": "stdout",
     "output_type": "stream",
     "text": [
      "[\"Don't\", 'take', 'cryptocurrency', 'advice', 'from', 'Twitter', '😂', '👌']\n"
     ]
    }
   ],
   "source": [
    "text = \"Don't take cryptocurrency advice from Twitter 😂👌\"\n",
    "\n",
    "tokenizer = tkzr.TweetTokenizer()\n",
    "\n",
    "print(tokenizer.tokenize(text))"
   ]
  },
  {
   "cell_type": "markdown",
   "metadata": {},
   "source": [
    "#### MWE Tokenizer"
   ]
  },
  {
   "cell_type": "code",
   "execution_count": 10,
   "metadata": {},
   "outputs": [
    {
     "name": "stdout",
     "output_type": "stream",
     "text": [
      "['Hope', ',', 'is', 'the', 'only', 'this', 'stronger', 'than', 'fear', '!', 'Hunger', 'Games', '#', 'Hope']\n",
      "['Hope', ',', 'is', 'the', 'only', 'this', 'stronger', 'than', 'fear', '!', 'Hunger_Games', '#', 'Hope']\n"
     ]
    }
   ],
   "source": [
    "text = \"Hope, is the only this stronger than fear! Hunger Games #Hope\"\n",
    "\n",
    "tokenizer = tkzr.MWETokenizer()\n",
    "\n",
    "print(tokenizer.tokenize(tkzr.word_tokenize(text)))\n",
    "\n",
    "tokenizer.add_mwe((\"Hunger\", \"Games\"))\n",
    "\n",
    "print(tokenizer.tokenize(tkzr.word_tokenize(text)))"
   ]
  },
  {
   "cell_type": "markdown",
   "metadata": {},
   "source": []
  }
 ],
 "metadata": {
  "kernelspec": {
   "display_name": ".venv",
   "language": "python",
   "name": "python3"
  },
  "language_info": {
   "codemirror_mode": {
    "name": "ipython",
    "version": 3
   },
   "file_extension": ".py",
   "mimetype": "text/x-python",
   "name": "python",
   "nbconvert_exporter": "python",
   "pygments_lexer": "ipython3",
   "version": "3.11.1"
  },
  "orig_nbformat": 4
 },
 "nbformat": 4,
 "nbformat_minor": 2
}
